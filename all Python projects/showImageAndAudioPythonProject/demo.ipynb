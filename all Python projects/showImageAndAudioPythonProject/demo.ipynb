{
 "cells": [
  {
   "cell_type": "code",
   "execution_count": null,
   "metadata": {},
   "outputs": [],
   "source": [
    "import sys,time\n",
    "from PyQt5.QtCore import Qt,QTimer,QUrl\n",
    "from PyQt5.QtWidgets import QWidget,QApplication,QLabel,QPushButton\n",
    "from PyQt5.QtMultimedia import QMediaPlayer,QMediaContent\n",
    "from PyQt5.QtGui import QPixmap,QIcon  \n",
    "\n",
    "media_player = QMediaPlayer()\n",
    "media_player.setMedia(QMediaContent(QUrl.fromLocalFile(\"audio_files/1.mp3\")))\n",
    "media_player.play()\n"
   ]
  }
 ],
 "metadata": {
  "kernelspec": {
   "display_name": "base",
   "language": "python",
   "name": "python3"
  },
  "language_info": {
   "codemirror_mode": {
    "name": "ipython",
    "version": 3
   },
   "file_extension": ".py",
   "mimetype": "text/x-python",
   "name": "python",
   "nbconvert_exporter": "python",
   "pygments_lexer": "ipython3",
   "version": "3.12.8"
  }
 },
 "nbformat": 4,
 "nbformat_minor": 2
}
